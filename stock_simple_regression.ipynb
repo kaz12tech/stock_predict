{
 "cells": [
  {
   "cell_type": "code",
   "execution_count": null,
   "metadata": {},
   "outputs": [],
   "source": [
    "import sys\n",
    "import os\n",
    "from yahoo_finance_api2 import share\n",
    "from yahoo_finance_api2.exceptions import YahooFinanceError\n",
    "import pandas as pd\n",
    "import numpy as np\n",
    "import pickle\n",
    "\n",
    "from sktime.utils.plotting import plot_series\n",
    "from sktime.forecasting.model_selection import temporal_train_test_split\n",
    "from sktime.forecasting.base import ForecastingHorizon\n",
    "\n",
    "from sktime.forecasting.theta import ThetaForecaster\n",
    "from sktime.forecasting.fbprophet import Prophet\n",
    "from sktime.performance_metrics.forecasting import mean_absolute_percentage_error"
   ]
  },
  {
   "cell_type": "code",
   "execution_count": null,
   "metadata": {},
   "outputs": [],
   "source": [
    "def data_shaping(symbol_data):\n",
    "    '''\n",
    "    yahoo_finance_api2のdataをDataFrameに整形\n",
    "    '''\n",
    "    \n",
    "    # DataFrameに初期化\n",
    "    df_symbol_data = pd.DataFrame(symbol_data)\n",
    "\n",
    "    # UNIX時間をUTC時間に変換\n",
    "    df_symbol_data.timestamp = pd.to_datetime(df_symbol_data.timestamp, unit='ms')\n",
    "    \n",
    "    return df_symbol_data"
   ]
  },
  {
   "cell_type": "code",
   "execution_count": null,
   "metadata": {},
   "outputs": [],
   "source": [
    "my_share = share.Share('7974.T') # 東京証券の証券コード指定:任天堂\n",
    "\n",
    "symbol_data = None\n",
    "\n",
    "try:\n",
    "    # 5年分を1日間隔で取得\n",
    "    symbol_data = my_share.get_historical(share.PERIOD_TYPE_YEAR,\n",
    "    5,\n",
    "    share.FREQUENCY_TYPE_DAY,\n",
    "    1)\n",
    "except YahooFinanceError as e:\n",
    "    print(e.message)\n",
    "    sys.exit(1)\n",
    "\n",
    "# Dataframeに整形\n",
    "df_symbol_data = data_shaping(symbol_data)\n",
    "# 前日までのデータを取得\n",
    "df_symbol_data = df_symbol_data[:-1]"
   ]
  },
  {
   "cell_type": "code",
   "execution_count": null,
   "metadata": {},
   "outputs": [],
   "source": [
    "# 取引日と終値のみのSeriesを生成\n",
    "target = df_symbol_data['close']\n",
    "index = df_symbol_data['timestamp']\n",
    "target.index = pd.PeriodIndex(index, freq=\"D\")\n",
    "\n",
    "target.index"
   ]
  },
  {
   "cell_type": "code",
   "execution_count": null,
   "metadata": {},
   "outputs": [],
   "source": [
    "# 棒グラフにプロット\n",
    "plot_series(target)"
   ]
  },
  {
   "cell_type": "code",
   "execution_count": null,
   "metadata": {},
   "outputs": [],
   "source": [
    "# targetの5%をtestデータに分割\n",
    "y_train, y_test = temporal_train_test_split( target,test_size=int(len(target) * 0.05) )\n",
    "# グラフ化\n",
    "plot_series(y_train, y_test, labels=[\"y_train\", \"y_test\"])"
   ]
  },
  {
   "cell_type": "code",
   "execution_count": null,
   "metadata": {},
   "outputs": [],
   "source": [
    "# model用ディレクトリ作成\n",
    "os.makedirs('./models', exist_ok=True)\n",
    "\n",
    "# ThetaForecasterモデル\n",
    "# 季節性の考慮なし\n",
    "model_name = './models/stock_close_simple_regression_theta.pkl'\n",
    "\n",
    "if os.path.exists(model_name):\n",
    "    print(\"Already exists model\", model_name)\n",
    "    with open(model_name, 'rb') as f:\n",
    "        forecaster = pickle.load(f)\n",
    "else:\n",
    "    forecaster = ThetaForecaster()\n",
    "    forecaster.fit(y_train)\n",
    "    # save model\n",
    "    with open(model_name,'wb') as f:\n",
    "        pickle.dump(forecaster,f)\n",
    "    print(\"save model\", model_name)"
   ]
  },
  {
   "cell_type": "code",
   "execution_count": null,
   "metadata": {},
   "outputs": [],
   "source": [
    "# forecasting horizon\n",
    "fh = ForecastingHorizon(\n",
    "    y_test.index, is_relative=False\n",
    ")\n",
    "fh"
   ]
  },
  {
   "cell_type": "code",
   "execution_count": null,
   "metadata": {},
   "outputs": [],
   "source": [
    "# 予測\n",
    "y_pred = forecaster.predict(fh)\n",
    "# 予測結果のグラフ化\n",
    "plot_series(y_train.tail(100), y_test, y_pred, labels=[\"y_train\", \"y_test\", \"y_pred\"])"
   ]
  },
  {
   "cell_type": "code",
   "execution_count": null,
   "metadata": {},
   "outputs": [],
   "source": [
    "# 精度検証: MAPE(平均絶対パーセント誤差)\n",
    "mean_absolute_percentage_error(y_test, y_pred)"
   ]
  },
  {
   "cell_type": "code",
   "execution_count": null,
   "metadata": {},
   "outputs": [],
   "source": [
    "# indexをPeriodIndexをDatetimeIndexに変更\n",
    "target.index = index\n",
    "# targetの5%をtestデータに分割\n",
    "y_train, y_test = temporal_train_test_split( target,test_size=int(len(target) * 0.05) )\n",
    "\n",
    "# Prophetモデル\n",
    "model_name = './models/stock_close_simple_regression_prophet.pkl'\n",
    "\n",
    "if os.path.exists(model_name):\n",
    "    print(\"Already exists model\", model_name)\n",
    "    with open(model_name, 'rb') as f:\n",
    "        forecaster = pickle.load(f)\n",
    "else:\n",
    "    forecaster = Prophet(\n",
    "        seasonality_mode='multiplicative',\n",
    "        add_country_holidays={'country_name': 'JP'},\n",
    "        daily_seasonality=True\n",
    "    )\n",
    "    forecaster.fit(y_train)\n",
    "    # save model\n",
    "    with open(model_name,'wb') as f:\n",
    "        pickle.dump(forecaster,f)\n",
    "    print(\"save model\", model_name)\n",
    "\n",
    "# forecasting horizon\n",
    "fh = ForecastingHorizon(\n",
    "    y_test.index, is_relative=False\n",
    ")\n",
    "\n",
    "# 予測\n",
    "y_pred = forecaster.predict(fh)\n",
    "# 予測結果のグラフ化\n",
    "plot_series(y_train.tail(100), y_test, y_pred, labels=[\"y_train\", \"y_test\", \"y_pred\"])"
   ]
  },
  {
   "cell_type": "code",
   "execution_count": null,
   "metadata": {},
   "outputs": [],
   "source": [
    "# 精度検証: MAPE(平均絶対パーセント誤差)\n",
    "mean_absolute_percentage_error(y_test, y_pred)"
   ]
  }
 ],
 "metadata": {
  "interpreter": {
   "hash": "ae61a0bc34d66164b4ccb0277fe87bb5b44d7f6cddcf3de77e42e490ffe2a438"
  },
  "kernelspec": {
   "display_name": "Python 3.7.11 64-bit ('stock_predict': conda)",
   "language": "python",
   "name": "python3"
  },
  "language_info": {
   "codemirror_mode": {
    "name": "ipython",
    "version": 3
   },
   "file_extension": ".py",
   "mimetype": "text/x-python",
   "name": "python",
   "nbconvert_exporter": "python",
   "pygments_lexer": "ipython3",
   "version": "3.8.12"
  },
  "orig_nbformat": 4
 },
 "nbformat": 4,
 "nbformat_minor": 2
}
