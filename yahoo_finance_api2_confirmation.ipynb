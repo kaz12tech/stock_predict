{
 "cells": [
  {
   "cell_type": "code",
   "execution_count": null,
   "metadata": {},
   "outputs": [],
   "source": [
    "import sys\n",
    "from yahoo_finance_api2 import share\n",
    "from yahoo_finance_api2.exceptions import YahooFinanceError\n",
    "import pandas as pd\n"
   ]
  },
  {
   "cell_type": "code",
   "execution_count": null,
   "metadata": {},
   "outputs": [],
   "source": [
    "def data_shaping(symbol_data):\n",
    "    '''\n",
    "    yahoo_finance_api2のdataをDataFrameに整形\n",
    "    '''\n",
    "    \n",
    "    # DataFrameに初期化\n",
    "    df_symbol_data = pd.DataFrame(symbol_data)\n",
    "\n",
    "    # UNIX時間をUTC時間に変換\n",
    "    df_symbol_data.timestamp = pd.to_datetime(df_symbol_data.timestamp, unit='ms')\n",
    "    \n",
    "    return df_symbol_data\n"
   ]
  },
  {
   "cell_type": "code",
   "execution_count": null,
   "metadata": {},
   "outputs": [],
   "source": [
    "#my_share = share.Share('GOOGL') # NASDAQの証券コード指定:Google\n",
    "my_share = share.Share('7974.T') # 東京証券の証券コード指定:任天堂\n",
    "\n",
    "symbol_data = None\n",
    "\n",
    "try:\n",
    "    # 20日分を1日間隔で取得\n",
    "    symbol_data = my_share.get_historical(share.PERIOD_TYPE_DAY,\n",
    "    20,\n",
    "    share.FREQUENCY_TYPE_DAY,\n",
    "    1)\n",
    "except YahooFinanceError as e:\n",
    "    print(e.message)\n",
    "    sys.exit(1)\n",
    "\n",
    "df_symbol_data = data_shaping(symbol_data)\n",
    "df_symbol_data.head()"
   ]
  },
  {
   "cell_type": "code",
   "execution_count": null,
   "metadata": {},
   "outputs": [],
   "source": []
  }
 ],
 "metadata": {
  "interpreter": {
   "hash": "ae61a0bc34d66164b4ccb0277fe87bb5b44d7f6cddcf3de77e42e490ffe2a438"
  },
  "kernelspec": {
   "display_name": "Python 3.7.11 64-bit ('stock_predict': conda)",
   "language": "python",
   "name": "python3"
  },
  "language_info": {
   "codemirror_mode": {
    "name": "ipython",
    "version": 3
   },
   "file_extension": ".py",
   "mimetype": "text/x-python",
   "name": "python",
   "nbconvert_exporter": "python",
   "pygments_lexer": "ipython3",
   "version": "3.7.11"
  },
  "orig_nbformat": 4
 },
 "nbformat": 4,
 "nbformat_minor": 2
}
