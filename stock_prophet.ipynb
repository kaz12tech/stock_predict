{
 "cells": [
  {
   "cell_type": "code",
   "execution_count": null,
   "metadata": {},
   "outputs": [],
   "source": [
    "import sys\n",
    "import os\n",
    "\n",
    "from yahoo_finance_api2 import share\n",
    "from yahoo_finance_api2.exceptions import YahooFinanceError\n",
    "import pandas as pd\n",
    "import pickle\n",
    "\n",
    "import prophet\n",
    "prophet.__version__"
   ]
  },
  {
   "cell_type": "code",
   "execution_count": null,
   "metadata": {},
   "outputs": [],
   "source": [
    "SECURITIES_CODE = \"7974.T\""
   ]
  },
  {
   "cell_type": "code",
   "execution_count": null,
   "metadata": {},
   "outputs": [],
   "source": [
    "def data_shaping(symbol_data):\n",
    "    '''\n",
    "    yahoo_finance_api2のdataをDataFrameに整形\n",
    "    '''\n",
    "    \n",
    "    # DataFrameに初期化\n",
    "    df_symbol_data = pd.DataFrame(symbol_data)\n",
    "\n",
    "    # UNIX時間をUTC時間に変換\n",
    "    df_symbol_data.timestamp = pd.to_datetime(df_symbol_data.timestamp, unit='ms')\n",
    "\n",
    "    return df_symbol_data"
   ]
  },
  {
   "cell_type": "code",
   "execution_count": null,
   "metadata": {},
   "outputs": [],
   "source": [
    "def create_sma(df):\n",
    "    # 終値の単純移動平均(Simple Moving Average:SMA)作成\n",
    "    rolling_days = [5, 25, 75, 100, 200]\n",
    "    for rolling_day in rolling_days:\n",
    "        df[\"close_sma_\"+str(rolling_day)] = df[\"close\"].rolling(rolling_day).mean()\n",
    "\n",
    "    return df\n",
    "\n",
    "def create_macd(df):\n",
    "    # MACD\n",
    "    # MACD＝短期EMA(指数平滑移動平均)－長期EMA\n",
    "    # Pandasのewmは厳密に定義と違うらしい\n",
    "    # https://turtlechan.hatenablog.com/entry/2019/08/15/195048\n",
    "    df[\"close_ema_12\"] = df[\"close\"].ewm(span=12, adjust=False).mean()\n",
    "    df[\"close_ema_26\"] = df[\"close\"].ewm(span=26, adjust=False).mean()\n",
    "    df[\"close_macd_12_26\"] = df[\"close_ema_12\"] - df[\"close_ema_26\"]\n",
    "\n",
    "    df = df.drop(['close_ema_12', 'close_ema_26'], axis=1)\n",
    "\n",
    "    return df\n",
    "\n",
    "def create_rsi(df):\n",
    "    # RSI(相対力指数)\n",
    "    # RS =(n日間の終値の上昇幅の平均)/(n日間の終値の下落幅の平均)\n",
    "    # RSI = 100-(100/(RS+1))\n",
    "    # n=14で算出\n",
    "\n",
    "    # 1行前との差分\n",
    "    df_diff = df['close'].diff()\n",
    "    # deep copy\n",
    "    df_up = df_diff.copy(deep=True)\n",
    "    df_down = df_diff.copy(deep=True)\n",
    "    \n",
    "    df_up[df_up < 0] = 0\n",
    "    df_down[df_down > 0] = 0\n",
    "\n",
    "    df_up_sum = df_up.rolling(14).sum()\n",
    "    df_down_sum = df_down.abs().rolling(14).sum()\n",
    "\n",
    "    df[\"close_rsi_14\"] = df_up_sum/(df_up_sum + df_down_sum) * 100\n",
    "\n",
    "    # 不要なデータ削除\n",
    "    del df_diff, df_up, df_down, df_up_sum, df_down_sum\n",
    "    \n",
    "    return df\n",
    "\n",
    "def create_stochas(df):\n",
    "    # ファーストストキャスティックス\n",
    "    # n=14, m=3\n",
    "    df['%K'] = (\n",
    "        (df['close'] - df['low'].rolling(window=14, center=False).min()) \n",
    "        / \n",
    "        ( df['high'].rolling(window=14,center=False).max() - df['low'].rolling(window=14,center=False).min())\n",
    "        ) * 100\n",
    "    df['%D'] = df['%K'].rolling(window=3,center=False).mean()\n",
    "\n",
    "    # スローストキャスティクス\n",
    "    # x=3\n",
    "    df['Slow%D'] = df['%D'].rolling(window=3, center=False).mean()\n",
    "    return df\n"
   ]
  },
  {
   "cell_type": "code",
   "execution_count": null,
   "metadata": {},
   "outputs": [],
   "source": [
    "my_share = share.Share(SECURITIES_CODE) # 東京証券の証券コード指定:任天堂\n",
    "\n",
    "symbol_data = None\n",
    "\n",
    "try:\n",
    "    # 10年分を1日間隔で取得\n",
    "    symbol_data = my_share.get_historical(share.PERIOD_TYPE_YEAR,\n",
    "    10,\n",
    "    share.FREQUENCY_TYPE_DAY,\n",
    "    1)\n",
    "except YahooFinanceError as e:\n",
    "    print(e.message)\n",
    "    sys.exit(1)\n",
    "\n",
    "# Dataframeに整形\n",
    "df = data_shaping(symbol_data)\n",
    "\n",
    "# 取引時間中に実行すると半端なデータが取れるので\n",
    "# 前日までのデータを取得\n",
    "df = df[:-1]"
   ]
  },
  {
   "cell_type": "code",
   "execution_count": null,
   "metadata": {},
   "outputs": [],
   "source": [
    "df = create_sma(df)\n",
    "df = create_macd(df)\n",
    "df = create_rsi(df)\n",
    "df = create_stochas(df)\n",
    "df = df.dropna(how='any')\n",
    "df"
   ]
  },
  {
   "cell_type": "code",
   "execution_count": null,
   "metadata": {},
   "outputs": [],
   "source": [
    "df = df.rename(columns={'close': 'y','timestamp':'ds'})\n",
    "df"
   ]
  },
  {
   "cell_type": "code",
   "execution_count": null,
   "metadata": {},
   "outputs": [],
   "source": [
    "model = prophet.Prophet()\n",
    "model.fit(df)\n",
    "\n",
    "future = model.make_future_dataframe(periods=30)\n",
    "forecast = model.predict(future)\n",
    "fig = model.plot(forecast.tail(1000))"
   ]
  }
 ],
 "metadata": {
  "interpreter": {
   "hash": "ae61a0bc34d66164b4ccb0277fe87bb5b44d7f6cddcf3de77e42e490ffe2a438"
  },
  "kernelspec": {
   "display_name": "Python 3.7.11 64-bit ('stock_predict': conda)",
   "language": "python",
   "name": "python3"
  },
  "language_info": {
   "codemirror_mode": {
    "name": "ipython",
    "version": 3
   },
   "file_extension": ".py",
   "mimetype": "text/x-python",
   "name": "python",
   "nbconvert_exporter": "python",
   "pygments_lexer": "ipython3",
   "version": "3.8.12"
  },
  "orig_nbformat": 4
 },
 "nbformat": 4,
 "nbformat_minor": 2
}
