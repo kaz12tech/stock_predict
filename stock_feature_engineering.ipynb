{
 "cells": [
  {
   "cell_type": "code",
   "execution_count": null,
   "metadata": {},
   "outputs": [],
   "source": [
    "import sys\n",
    "import os\n",
    "\n",
    "from yahoo_finance_api2 import share\n",
    "from yahoo_finance_api2.exceptions import YahooFinanceError\n",
    "import pandas as pd\n",
    "import pickle\n",
    "\n",
    "from sktime.utils.plotting import plot_series\n",
    "\n",
    "SECURITIES_CODE = \"7974.T\""
   ]
  },
  {
   "cell_type": "code",
   "execution_count": null,
   "metadata": {},
   "outputs": [],
   "source": [
    "def data_shaping(symbol_data):\n",
    "    '''\n",
    "    yahoo_finance_api2のdataをDataFrameに整形\n",
    "    '''\n",
    "    \n",
    "    # DataFrameに初期化\n",
    "    df_symbol_data = pd.DataFrame(symbol_data)\n",
    "\n",
    "    # UNIX時間をUTC時間に変換\n",
    "    df_symbol_data.timestamp = pd.to_datetime(df_symbol_data.timestamp, unit='ms')\n",
    "\n",
    "    return df_symbol_data"
   ]
  },
  {
   "cell_type": "code",
   "execution_count": null,
   "metadata": {},
   "outputs": [],
   "source": [
    "my_share = share.Share(SECURITIES_CODE) # 東京証券の証券コード指定:任天堂\n",
    "\n",
    "symbol_data = None\n",
    "\n",
    "try:\n",
    "    # 5年分を1日間隔で取得\n",
    "    symbol_data = my_share.get_historical(share.PERIOD_TYPE_YEAR,\n",
    "    5,\n",
    "    share.FREQUENCY_TYPE_DAY,\n",
    "    1)\n",
    "except YahooFinanceError as e:\n",
    "    print(e.message)\n",
    "    sys.exit(1)\n",
    "\n",
    "# Dataframeに整形\n",
    "df_symbol_data = data_shaping(symbol_data)\n",
    "# 前日までのデータを取得\n",
    "df_symbol_data = df_symbol_data[:-1]\n",
    "\n",
    "df_symbol_data"
   ]
  },
  {
   "cell_type": "code",
   "execution_count": null,
   "metadata": {},
   "outputs": [],
   "source": [
    "def set_datetimeindex_with_freq(index):\n",
    "    index = pd.DatetimeIndex(index)\n",
    "    freq = pd.infer_freq(index)\n",
    "    print(freq)\n",
    "    return index\n"
   ]
  },
  {
   "cell_type": "code",
   "execution_count": null,
   "metadata": {},
   "outputs": [],
   "source": [
    "# 取引日と終値のみのSeriesを生成\n",
    "y = df_symbol_data['close']\n",
    "index = df_symbol_data['timestamp']\n",
    "y.index = pd.PeriodIndex(index, freq=\"D\")\n",
    "y"
   ]
  },
  {
   "cell_type": "code",
   "execution_count": null,
   "metadata": {},
   "outputs": [],
   "source": [
    "X = df_symbol_data[['open', 'high', 'low', 'volume', 'close']]\n",
    "X.index = pd.PeriodIndex(index, freq=\"D\")\n",
    "\n",
    "X"
   ]
  },
  {
   "cell_type": "code",
   "execution_count": null,
   "metadata": {},
   "outputs": [],
   "source": [
    "# 終値の単純移動平均(Simple Moving Average:SMA)作成\n",
    "rolling_days = [5, 25, 75, 100, 200]\n",
    "for rolling_day in rolling_days:\n",
    "    X[\"close_sma_\"+str(rolling_day)] = X[\"close\"].rolling(rolling_day).mean()\n",
    "\n",
    "X"
   ]
  },
  {
   "cell_type": "code",
   "execution_count": null,
   "metadata": {},
   "outputs": [],
   "source": [
    "# SMAをグラフに出力\n",
    "plot_series(\n",
    "    X['close'], \n",
    "    X['close_sma_5'], \n",
    "    X['close_sma_25'], \n",
    "    X['close_sma_75'], \n",
    "    X['close_sma_100'],\n",
    "    X['close_sma_200'],\n",
    "    labels=[\"close\", \"close_sma_5\", \"close_sma_25\", \"close_sma_75\", \"close_sma_100\", \"close_sma_200\"]\n",
    "    )"
   ]
  },
  {
   "cell_type": "code",
   "execution_count": null,
   "metadata": {},
   "outputs": [],
   "source": [
    "# MACD\n",
    "# MACD＝短期EMA(指数平滑移動平均)－長期EMA\n",
    "# Pandasのewmは厳密に定義と違うらしい\n",
    "# https://turtlechan.hatenablog.com/entry/2019/08/15/195048\n",
    "X[\"close_ema_12\"] = X[\"close\"].ewm(span=12, adjust=False).mean()\n",
    "X[\"close_ema_26\"] = X[\"close\"].ewm(span=26, adjust=False).mean()\n",
    "X[\"close_macd_12_26\"] = X[\"close_ema_12\"] - X[\"close_ema_26\"]\n",
    "\n",
    "X = X.drop(['close_ema_12', 'close_ema_26'], axis=1)\n",
    "X\n"
   ]
  },
  {
   "cell_type": "code",
   "execution_count": null,
   "metadata": {},
   "outputs": [],
   "source": [
    "# MACDをグラフに出力\n",
    "plot_series(\n",
    "    X['close'], \n",
    "    X['close_macd_12_26'], \n",
    "    labels=[\"close\", \"close_macd_12_26\"]\n",
    "    )"
   ]
  },
  {
   "cell_type": "code",
   "execution_count": null,
   "metadata": {},
   "outputs": [],
   "source": [
    "# RSI(相対力指数)\n",
    "# RS =(n日間の終値の上昇幅の平均)/(n日間の終値の下落幅の平均)\n",
    "# RSI = 100-(100/(RS+1))\n",
    "# n=14で算出\n",
    "\n",
    "# 1行前との差分\n",
    "df_diff = X['close'].diff()\n",
    "# deep copy\n",
    "df_up = df_diff.copy(deep=True)\n",
    "df_down = df_diff.copy(deep=True)\n",
    " \n",
    "df_up[df_up < 0] = 0\n",
    "df_down[df_down > 0] = 0\n",
    "\n",
    "df_up_sum = df_up.rolling(14).sum()\n",
    "df_down_sum = df_down.abs().rolling(14).sum()\n",
    "\n",
    "X[\"close_rsi_14\"] = df_up_sum/(df_up_sum + df_down_sum) * 100\n",
    "\n",
    "# 不要なデータ削除\n",
    "del df_diff, df_up, df_down, df_up_sum, df_down_sum\n",
    "X\n"
   ]
  },
  {
   "cell_type": "code",
   "execution_count": null,
   "metadata": {},
   "outputs": [],
   "source": [
    "# RSIをグラフに出力\n",
    "plot_series(\n",
    "    X['close_rsi_14'], \n",
    "    labels=[\"close_rsi_14\"]\n",
    "    )"
   ]
  },
  {
   "cell_type": "code",
   "execution_count": null,
   "metadata": {},
   "outputs": [],
   "source": [
    "# ファーストストキャスティックス\n",
    "# n=14, m=3\n",
    "X['%K'] = (\n",
    "    (X['close'] - X['low'].rolling(window=14, center=False).min()) \n",
    "    / \n",
    "    ( X['high'].rolling(window=14,center=False).max() - X['low'].rolling(window=14,center=False).min())\n",
    "    ) * 100\n",
    "X['%D'] = X['%K'].rolling(window=3,center=False).mean()\n",
    "\n",
    "# スローストキャスティクス\n",
    "# x=3\n",
    "X['Slow%D'] = X['%D'].rolling(window=3, center=False).mean()\n",
    "\n",
    "X\n"
   ]
  },
  {
   "cell_type": "code",
   "execution_count": null,
   "metadata": {},
   "outputs": [],
   "source": [
    "# ストキャスティクスをグラフに出力\n",
    "plot_series(\n",
    "    X['%K'],\n",
    "    X['%D'],\n",
    "    X['Slow%D'],\n",
    "    labels=[\"%K\", \"%D\", \"Slow%D\"]\n",
    "    )"
   ]
  },
  {
   "cell_type": "code",
   "execution_count": null,
   "metadata": {},
   "outputs": [],
   "source": [
    "X"
   ]
  },
  {
   "cell_type": "code",
   "execution_count": null,
   "metadata": {},
   "outputs": [],
   "source": [
    "X = X.shift(1)\n",
    "X.rename(\n",
    "    columns={\n",
    "        'open': 'open_shift1',\n",
    "        'high': 'high_shift1',\n",
    "        'low': 'low_shift1',\n",
    "        'volume': 'volume_shift1',\n",
    "        })\n",
    "X"
   ]
  },
  {
   "cell_type": "code",
   "execution_count": null,
   "metadata": {},
   "outputs": [],
   "source": [
    "# Nanを含む行を削除\n",
    "X = X.dropna(how='any')\n",
    "# close除去\n",
    "X = X.drop('close', axis=1)\n",
    "X"
   ]
  },
  {
   "cell_type": "code",
   "execution_count": null,
   "metadata": {},
   "outputs": [],
   "source": [
    "# XのPeriodIndexに合わせてyを調整\n",
    "start = X.head(1).index[0]\n",
    "end = X.tail(1).index[0]\n",
    "y = y[(start <= y.index) & (y.index <= end)]\n",
    "y"
   ]
  },
  {
   "cell_type": "code",
   "execution_count": null,
   "metadata": {},
   "outputs": [],
   "source": [
    "# データセットをpickleに保存\n",
    "os.makedirs('./datasets', exist_ok=True)\n",
    "\n",
    "# save y\n",
    "with open('./datasets/' + str(SECURITIES_CODE) + '_y.pkl', 'wb') as f:\n",
    "    pickle.dump(y, f)\n",
    "# save X\n",
    "with open('./datasets/' + str(SECURITIES_CODE) + '_X.pkl', 'wb') as f:\n",
    "    pickle.dump(X, f)"
   ]
  }
 ],
 "metadata": {
  "interpreter": {
   "hash": "ae61a0bc34d66164b4ccb0277fe87bb5b44d7f6cddcf3de77e42e490ffe2a438"
  },
  "kernelspec": {
   "display_name": "Python 3.8.12 64-bit ('stock_predict': conda)",
   "language": "python",
   "name": "python3"
  },
  "language_info": {
   "codemirror_mode": {
    "name": "ipython",
    "version": 3
   },
   "file_extension": ".py",
   "mimetype": "text/x-python",
   "name": "python",
   "nbconvert_exporter": "python",
   "pygments_lexer": "ipython3",
   "version": "3.8.12"
  },
  "orig_nbformat": 4
 },
 "nbformat": 4,
 "nbformat_minor": 2
}
