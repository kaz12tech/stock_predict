{
 "cells": [
  {
   "cell_type": "code",
   "execution_count": null,
   "metadata": {},
   "outputs": [],
   "source": [
    "import sys\n",
    "import os\n",
    "from yahoo_finance_api2 import share\n",
    "from yahoo_finance_api2.exceptions import YahooFinanceError\n",
    "import pandas as pd\n",
    "import numpy as np\n",
    "import pickle\n",
    "\n",
    "from sktime.utils.plotting import plot_series\n",
    "from sktime.forecasting.model_selection import temporal_train_test_split\n",
    "from sktime.forecasting.base import ForecastingHorizon\n",
    "\n",
    "from sktime.forecasting.all import (\n",
    "    MultiplexForecaster,\n",
    "    NaiveForecaster,\n",
    "    TrendForecaster,\n",
    "    PolynomialTrendForecaster,\n",
    "    ExponentialSmoothing,\n",
    "    AutoETS,\n",
    "    AutoARIMA,\n",
    "    ThetaForecaster,\n",
    "    Prophet,\n",
    "    ForecastingGridSearchCV,\n",
    "    ExpandingWindowSplitter,)\n",
    "\n",
    "from sktime.performance_metrics.forecasting import mean_absolute_percentage_error"
   ]
  },
  {
   "cell_type": "code",
   "execution_count": null,
   "metadata": {},
   "outputs": [],
   "source": [
    "INITIAL_WINDOW_SIZE = 25\n",
    "SP = 7\n",
    "TEST_RATIO = 0.05"
   ]
  },
  {
   "cell_type": "code",
   "execution_count": null,
   "metadata": {},
   "outputs": [],
   "source": [
    "# データをロード\n",
    "with open('./datasets/7974.T_X.pkl', 'rb') as f:\n",
    "    X = pickle.load(f)\n",
    "    p_X = X.copy()\n",
    "with open('./datasets/7974.T_y.pkl', 'rb') as f:\n",
    "    y = pickle.load(f)\n",
    "    p_y = y.copy()\n",
    "\n",
    "# prophet用にindex変換\n",
    "p_X.index = p_X.index.to_timestamp()\n",
    "p_y.index = p_y.index.to_timestamp()\n",
    "\n",
    "# targetの5%をtestデータに分割\n",
    "y_train, y_test, X_train, X_test = temporal_train_test_split(\n",
    "    y, \n",
    "    X, \n",
    "    test_size=int( len(y)*TEST_RATIO )\n",
    ")\n",
    "p_y_train, p_y_test, p_X_train, p_X_test = temporal_train_test_split(\n",
    "    p_y, \n",
    "    p_X, \n",
    "    test_size=int( len(p_y)*TEST_RATIO )\n",
    ")\n",
    "\n",
    "len(y_train)"
   ]
  },
  {
   "cell_type": "code",
   "execution_count": null,
   "metadata": {},
   "outputs": [],
   "source": [
    "forecaster = MultiplexForecaster(\n",
    "    forecasters=[\n",
    "    (\"native\", NaiveForecaster()),\n",
    "    (\"trend\", TrendForecaster()),\n",
    "    (\"poly\", PolynomialTrendForecaster()),\n",
    "    (\"exponent\", ExponentialSmoothing()),\n",
    "    (\"ets\", AutoETS(sp=SP)),\n",
    "    (\"arima\", AutoARIMA(sp=SP)),\n",
    "    (\"theta\", ThetaForecaster(sp=SP)),\n",
    "    (\"prophet\", Prophet(seasonality_mode='multiplicative', add_country_holidays={'country_name': 'JP'}, daily_seasonality=True)),\n",
    "    ])\n",
    "\n",
    "cv = ExpandingWindowSplitter(\n",
    "    fh=5,\n",
    "    initial_window=INITIAL_WINDOW_SIZE,\n",
    "    step_length=1,\n",
    "    start_with_window=True\n",
    ")\n",
    "gscv = ForecastingGridSearchCV(\n",
    "    cv=cv,\n",
    "    param_grid={\"selected_forecaster\":[\n",
    "        # \"native\",\n",
    "        # \"trend\", \n",
    "        # \"poly\",  \n",
    "        \"exponent\",\n",
    "        \"ets\",\n",
    "        #\"arima\",\n",
    "        \"theta\",\n",
    "        #\"prophet\" # DateTimeIndexである必要があるため別途トレーニング\n",
    "        ]},\n",
    "    forecaster=forecaster)\n",
    "gscv.fit(y_train, X_train)"
   ]
  },
  {
   "cell_type": "code",
   "execution_count": null,
   "metadata": {},
   "outputs": [],
   "source": [
    "gscv.best_forecaster_"
   ]
  },
  {
   "cell_type": "code",
   "execution_count": null,
   "metadata": {},
   "outputs": [],
   "source": [
    "\n",
    "prophet_forecaster = Prophet(\n",
    "        seasonality_mode='multiplicative',\n",
    "        add_country_holidays={'country_name': 'JP'},\n",
    "        daily_seasonality=True\n",
    "    )\n",
    "prophet_forecaster.fit(y=p_y_train, X=p_X_train)"
   ]
  },
  {
   "cell_type": "code",
   "execution_count": null,
   "metadata": {},
   "outputs": [],
   "source": [
    "# forecasting horizon\n",
    "fh = ForecastingHorizon(\n",
    "    y_test.index, is_relative=False\n",
    ")\n",
    "prophet_fh = ForecastingHorizon(\n",
    "    p_y_test.index, is_relative=False\n",
    ")"
   ]
  },
  {
   "cell_type": "code",
   "execution_count": null,
   "metadata": {},
   "outputs": [],
   "source": [
    "# 予測\n",
    "y_pred = gscv.predict(fh=fh,X=X_test)\n",
    "prophet_y_pred = prophet_forecaster.predict(fh=prophet_fh, X=p_X_test)\n",
    "# 予測結果のグラフ化\n",
    "prophet_y_pred.index = pd.PeriodIndex(prophet_y_pred.index, freq='D')\n",
    "plot_series(y_train.tail(100), y_test, y_pred, prophet_y_pred, labels=[\"y_train\", \"y_test\", \"y_pred\", \"prophet_y_pred\"])"
   ]
  }
 ],
 "metadata": {
  "interpreter": {
   "hash": "ae61a0bc34d66164b4ccb0277fe87bb5b44d7f6cddcf3de77e42e490ffe2a438"
  },
  "kernelspec": {
   "display_name": "Python 3.8.12 64-bit ('stock_predict': conda)",
   "language": "python",
   "name": "python3"
  },
  "language_info": {
   "codemirror_mode": {
    "name": "ipython",
    "version": 3
   },
   "file_extension": ".py",
   "mimetype": "text/x-python",
   "name": "python",
   "nbconvert_exporter": "python",
   "pygments_lexer": "ipython3",
   "version": "3.8.12"
  },
  "orig_nbformat": 4
 },
 "nbformat": 4,
 "nbformat_minor": 2
}
